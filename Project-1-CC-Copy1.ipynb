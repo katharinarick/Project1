{
 "cells": [
  {
   "cell_type": "markdown",
   "metadata": {},
   "source": [
    "<img src=\"http://imgur.com/1ZcRyrc.png\" style=\"float: left; margin: 20px; height: 55px\">\n",
    "\n",
    "# Project 1: Python Coding Exercises\n",
    "\n",
    "_Authors: Joseph Nelson (DC) _\n",
    "\n",
    "---"
   ]
  },
  {
   "cell_type": "markdown",
   "metadata": {},
   "source": [
    "The following code challenges are drawn from common exercises used in technical interviews.\n",
    "\n",
    "Note that there may be several ways to approach each challenge!"
   ]
  },
  {
   "cell_type": "markdown",
   "metadata": {},
   "source": [
    "### Challenge 1: Largest Palindrome\n",
    "A palindromic number reads the same both ways. For example, 1234321 is a palindrome. The largest palindrome made from the product of two two-digit numbers is 9009 = 91 × 99. Find the largest palindrome made from the product of two three-digit numbers."
   ]
  },
  {
   "cell_type": "code",
   "execution_count": 1,
   "metadata": {},
   "outputs": [
    {
     "name": "stdout",
     "output_type": "stream",
     "text": [
      "906609\n"
     ]
    }
   ],
   "source": [
    "#solution 1 with two formulas as found in search\n",
    "def palindrome(number1):\n",
    "    return str(number1) == str(number1)[::-1]\n",
    "def largest(bot, top):\n",
    "    z = 0 # starts with zero and will continue updating if larger value found\n",
    "    for x in range (top, bot, -1): # going from highest to lowest\n",
    "        for y in range (top, bot, -1): # going from highest to lowest\n",
    "            if palindrome(x*y):\n",
    "                if x* y > z: # checks if new value is larger then prior z\n",
    "                    z = x*y\n",
    "    return z\n",
    "\n",
    "print (largest(100,999)) # call function with bottom and top"
   ]
  },
  {
   "cell_type": "code",
   "execution_count": 2,
   "metadata": {},
   "outputs": [
    {
     "data": {
      "text/plain": [
       "906609"
      ]
     },
     "execution_count": 2,
     "metadata": {},
     "output_type": "execute_result"
    }
   ],
   "source": [
    "#solution 2 with an appended list of palindromes\n",
    "def isitapalindrome(num1, num2):\n",
    "    palin = num1 * num2\n",
    "    if str(palin) == str(palin)[::-1]:\n",
    "        return palin\n",
    "    else:\n",
    "        return False\n",
    "\n",
    "my_list = []\n",
    "for i in list(range(10**2,10**3)):\n",
    "    for j in list(range(10**2,10**3)):\n",
    "        if isitapalindrome(i, j):\n",
    "            my_list.append(i*j)\n",
    "        else:\n",
    "            pass\n",
    "max(my_list)"
   ]
  },
  {
   "cell_type": "markdown",
   "metadata": {},
   "source": [
    "### Challenge 2: Summation of Primes\n",
    "The sum of the primes below 10 is 2 + 3 + 5 + 7 = 17. Find the sum of all the primes below 2,000."
   ]
  },
  {
   "cell_type": "code",
   "execution_count": 3,
   "metadata": {
    "collapsed": true
   },
   "outputs": [],
   "source": [
    "# the best way to find primes is by using the Sieve of Eratosthenes\n",
    "# the Sieve will continuously eliminate numbers from bottom to top until all divisible numbers have been removed"
   ]
  },
  {
   "cell_type": "code",
   "execution_count": 4,
   "metadata": {},
   "outputs": [
    {
     "name": "stdout",
     "output_type": "stream",
     "text": [
      "[   2    3    5    7   11   13   17   19   23   29   31   37   41   43   47\n",
      "   53   59   61   67   71   73   79   83   89   97  101  103  107  109  113\n",
      "  121  127  131  137  139  143  149  151  157  163  167  169  173  179  181\n",
      "  187  191  193  197  199  209  211  221  223  227  229  233  239  241  247\n",
      "  251  253  257  263  269  271  277  281  283  289  293  299  307  311  313\n",
      "  317  319  323  331  337  341  347  349  353  359  361  367  373  377  379\n",
      "  383  389  391  397  401  403  407  409  419  421  431  433  437  439  443\n",
      "  449  451  457  461  463  467  473  479  481  487  491  493  499  503  509\n",
      "  517  521  523  527  529  533  541  547  551  557  559  563  569  571  577\n",
      "  583  587  589  593  599  601  607  611  613  617  619  629  631  641  643\n",
      "  647  649  653  659  661  667  671  673  677  683  689  691  697  701  703\n",
      "  709  713  719  727  731  733  737  739  743  751  757  761  767  769  773\n",
      "  779  781  787  793  797  799  803  809  811  817  821  823  827  829  839\n",
      "  841  851  853  857  859  863  869  871  877  881  883  887  893  899  901\n",
      "  907  911  913  919  923  929  937  941  943  947  949  953  961  967  971\n",
      "  977  979  983  989  991  997 1003 1007 1009 1013 1019 1021 1027 1031 1033\n",
      " 1037 1039 1049 1051 1061 1063 1067 1069 1073 1079 1081 1087 1091 1093 1097\n",
      " 1103 1109 1111 1117 1121 1123 1129 1133 1139 1147 1151 1153 1157 1159 1163\n",
      " 1171 1177 1181 1187 1189 1193 1199 1201 1207 1213 1217 1219 1223 1229 1231\n",
      " 1237 1241 1243 1247 1249 1259 1261 1271 1273 1277 1279 1283 1289 1291 1297\n",
      " 1301 1303 1307 1313 1319 1321 1327 1331 1333 1339 1343 1349 1357 1361 1363\n",
      " 1367 1369 1373 1381 1387 1391 1397 1399 1403 1409 1411 1417 1423 1427 1429\n",
      " 1433 1439 1441 1447 1451 1453 1457 1459 1469 1471 1481 1483 1487 1489 1493\n",
      " 1499 1501 1507 1511 1513 1517 1523 1529 1531 1537 1541 1543 1549 1553 1559\n",
      " 1567 1571 1573 1577 1579 1583 1591 1597 1601 1607 1609 1613 1619 1621 1627\n",
      " 1633 1637 1639 1643 1649 1651 1657 1661 1663 1667 1669 1679 1681 1691 1693\n",
      " 1697 1699 1703 1709 1711 1717 1721 1723 1727 1733 1739 1741 1747 1751 1753\n",
      " 1759 1763 1769 1777 1781 1783 1787 1789 1793 1801 1807 1811 1817 1819 1823\n",
      " 1829 1831 1837 1843 1847 1849 1853 1859 1861 1867 1871 1873 1877 1879 1889\n",
      " 1891 1901 1903 1907 1909 1913 1919 1921 1927 1931 1933 1937 1943 1949 1951\n",
      " 1957 1961 1963 1969 1973 1979 1987 1991 1993 1997 1999]\n"
     ]
    },
    {
     "data": {
      "text/plain": [
       "458860"
      ]
     },
     "execution_count": 4,
     "metadata": {},
     "output_type": "execute_result"
    }
   ],
   "source": [
    "def divisible(num1, num2):\n",
    "    z = num2 % num1\n",
    "    if z == 0:\n",
    "        return True\n",
    "    else:\n",
    "        return False\n",
    "\n",
    "import numpy as np\n",
    "a = np.array([list(range(2,2001))]) # creating an array for all numbers from 2 to 2,000\n",
    "b = []\n",
    "for i in list(range(2,10)):\n",
    "    for j in list(range(2,2001)):\n",
    "        if divisible(i, j):\n",
    "            if j / i == 1:\n",
    "                pass\n",
    "            else:\n",
    "                b.append(j) #everything that is divisible by a number between 2 and 10 is added to this list 'b'\n",
    "        else:\n",
    "            pass\n",
    "b = np.array(b) # turning list b into an array\n",
    "c = np.setdiff1d(a,b) # comparing array of numbers 2 to 2,000 to list of everything that is divisible in 'b'\n",
    "print (c) # array 'c' correctly contains only prime numbers because all divisible item in 'b' have been stripped out of 'a'\n",
    "sum(c) #summing up all elements in c"
   ]
  },
  {
   "cell_type": "markdown",
   "metadata": {},
   "source": [
    "### Challenge 3: Multiples of 3 and 5\n",
    "If we list all of the natural numbers below 10 that are multiples of 3 or 5, we get 3, 5, 6, and 9. The sum of these multiples is 23. Find the sum of all the multiples of 3 and 5 below 1,000."
   ]
  },
  {
   "cell_type": "code",
   "execution_count": 5,
   "metadata": {},
   "outputs": [
    {
     "data": {
      "text/plain": [
       "233168"
      ]
     },
     "execution_count": 5,
     "metadata": {},
     "output_type": "execute_result"
    }
   ],
   "source": [
    "# defined formula to identify numbers that are divisible by 3 or by 5\n",
    "\n",
    "def division3or5(num):\n",
    "    if num%3 == 0 or num%5 == 0:\n",
    "        return num\n",
    "\n",
    "d = []\n",
    "for i in list(range(0,1000)):\n",
    "    if division3or5(i):\n",
    "        d.append(i)\n",
    "    else:\n",
    "        pass\n",
    "sum(d)"
   ]
  },
  {
   "cell_type": "markdown",
   "metadata": {},
   "source": [
    "### Challenge 4: String Compressor\n",
    "Implement a method to perform basic string compression using the counts of repeated characters. (This is called run-length encoding.) For example, the string \"aabcccccaaa\" would become a2b1c5a3. If the “compressed” string would not become smaller than the original string, your method should return the original string. You can assume the string has only uppercase and lowercase letters (a–z). Specify whether your solution is case sensitive or case insensitive and what you would need to change to make it the other."
   ]
  },
  {
   "cell_type": "code",
   "execution_count": 6,
   "metadata": {},
   "outputs": [
    {
     "data": {
      "text/plain": [
       "['a', 1, 'A', 1, 'b', 1, 'c', 4, 'C', 1, 'a', 1, 'r', 2, 'a', 2]"
      ]
     },
     "execution_count": 6,
     "metadata": {},
     "output_type": "execute_result"
    }
   ],
   "source": [
    "# case sensitive solution\n",
    "\n",
    "def lettersandnumbers(mylist):\n",
    "    counter1 = 1\n",
    "    sensitive_list = []\n",
    "    for n in list(range(1,len(mylist))):\n",
    "        if mylist[n] == mylist[n-1]: # comparing to prior letter and increasing count by 1\n",
    "            counter1 += 1\n",
    "        else:\n",
    "            sensitive_list.append(mylist[n-1]) # if they are not equal then it is the end of the run\n",
    "            sensitive_list.append(counter1)\n",
    "            counter1 = 1 # resetting counter for next comparison\n",
    "        if n == len(mylist)-1:\n",
    "            sensitive_list.append(mylist[n]) # once the string is coming to an end, we need the last letter and count of that\n",
    "            sensitive_list.append(counter1)\n",
    "    return (sensitive_list)\n",
    "\n",
    "lettersandnumbers('aAbccccCarraa')"
   ]
  },
  {
   "cell_type": "code",
   "execution_count": 7,
   "metadata": {},
   "outputs": [
    {
     "data": {
      "text/plain": [
       "['a', 2, 'b', 1, 'c', 5, 'a', 1, 'r', 2, 'a', 2]"
      ]
     },
     "execution_count": 7,
     "metadata": {},
     "output_type": "execute_result"
    }
   ],
   "source": [
    "# non-case sensitive solution\n",
    "\n",
    "def lowersandnumbers(mylist):\n",
    "    mylist = mylist.lower() # for non-case sensitive solution, we turn input into all lowercase\n",
    "    counter1 = 1\n",
    "    sensitive_list = []\n",
    "    for n in list(range(1,len(mylist))):\n",
    "        if mylist[n] == mylist[n-1]: # comparing to prior letter and increasing count by 1\n",
    "            counter1 += 1\n",
    "        else:\n",
    "            sensitive_list.append(mylist[n-1]) # if they are not equal then it is the end of the run\n",
    "            sensitive_list.append(counter1)\n",
    "            counter1 = 1 # resetting counter for next comparison\n",
    "        if n == len(mylist)-1:\n",
    "            sensitive_list.append(mylist[n]) # once the string is coming to an end, we need the last letter and count of that\n",
    "            sensitive_list.append(counter1)\n",
    "    return (sensitive_list)\n",
    "\n",
    "lowersandnumbers('aAbccccCarraa')"
   ]
  },
  {
   "cell_type": "markdown",
   "metadata": {},
   "source": [
    "# Bonus Challenge: FizzBuzz Extreme\n",
    "Find or develop three different solutions to the following problem, in Python, that are as different from one another as possible. Which one do you prefer? Why? In what ways are the alternative solutions better?\n",
    "\n",
    "Write a program that prints all of the numbers from 1 to 100. For multiples of 3, instead of the number, print \"Fizz;\" for multiples of 5, print \"Buzz.\" For numbers that are multiples of both 3 and 5, print \"FizzBuzz.\""
   ]
  },
  {
   "cell_type": "code",
   "execution_count": 8,
   "metadata": {},
   "outputs": [
    {
     "name": "stdout",
     "output_type": "stream",
     "text": [
      "1\n",
      "2\n",
      "fizz\n",
      "4\n",
      "buzz\n",
      "fizz\n",
      "7\n",
      "8\n",
      "fizz\n",
      "buzz\n",
      "11\n",
      "fizz\n",
      "13\n",
      "14\n",
      "fizzbuzz\n",
      "16\n",
      "17\n",
      "fizz\n",
      "19\n",
      "buzz\n",
      "fizz\n",
      "22\n",
      "23\n",
      "fizz\n",
      "buzz\n",
      "26\n",
      "fizz\n",
      "28\n",
      "29\n",
      "fizzbuzz\n",
      "31\n",
      "32\n",
      "fizz\n",
      "34\n",
      "buzz\n",
      "fizz\n",
      "37\n",
      "38\n",
      "fizz\n",
      "buzz\n",
      "41\n",
      "fizz\n",
      "43\n",
      "44\n",
      "fizzbuzz\n",
      "46\n",
      "47\n",
      "fizz\n",
      "49\n",
      "buzz\n",
      "fizz\n",
      "52\n",
      "53\n",
      "fizz\n",
      "buzz\n",
      "56\n",
      "fizz\n",
      "58\n",
      "59\n",
      "fizzbuzz\n",
      "61\n",
      "62\n",
      "fizz\n",
      "64\n",
      "buzz\n",
      "fizz\n",
      "67\n",
      "68\n",
      "fizz\n",
      "buzz\n",
      "71\n",
      "fizz\n",
      "73\n",
      "74\n",
      "fizzbuzz\n",
      "76\n",
      "77\n",
      "fizz\n",
      "79\n",
      "buzz\n",
      "fizz\n",
      "82\n",
      "83\n",
      "fizz\n",
      "buzz\n",
      "86\n",
      "fizz\n",
      "88\n",
      "89\n",
      "fizzbuzz\n",
      "91\n",
      "92\n",
      "fizz\n",
      "94\n",
      "buzz\n",
      "fizz\n",
      "97\n",
      "98\n",
      "fizz\n",
      "buzz\n"
     ]
    }
   ],
   "source": [
    "# first solution which creates a list based on fizzbuzz rule defined upfront with automated runthrough bottom to top\n",
    "\n",
    "def fizzbuzz(number1): # define the fizzbuzz rule\n",
    "    if number1%3==0 and number1%5==0:\n",
    "        print('fizzbuzz')\n",
    "    elif number1%3==0:\n",
    "        print('fizz')\n",
    "    elif number1%5==0:\n",
    "        print('buzz')\n",
    "    else:\n",
    "        print(number1)\n",
    "\n",
    "def runthrough(bot, top): # define a run-through method\n",
    "    n = bot\n",
    "    a = [] # list to store results\n",
    "    while n <= top:\n",
    "        a.append(fizzbuzz(n)) # adding outputs of fizzbuzz function to the list of results called a\n",
    "        n += 1\n",
    "\n",
    "runthrough(1,100)"
   ]
  },
  {
   "cell_type": "code",
   "execution_count": 9,
   "metadata": {},
   "outputs": [
    {
     "name": "stdout",
     "output_type": "stream",
     "text": [
      "1\n",
      "2\n",
      "fizz\n",
      "4\n",
      "buzz\n",
      "fizz\n",
      "7\n",
      "8\n",
      "fizz\n",
      "buzz\n",
      "11\n",
      "fizz\n",
      "13\n",
      "14\n",
      "fizzbuzz\n",
      "16\n",
      "17\n",
      "fizz\n",
      "19\n",
      "buzz\n",
      "fizz\n",
      "22\n",
      "23\n",
      "fizz\n",
      "buzz\n",
      "26\n",
      "fizz\n",
      "28\n",
      "29\n",
      "fizzbuzz\n",
      "31\n",
      "32\n",
      "fizz\n",
      "34\n",
      "buzz\n",
      "fizz\n",
      "37\n",
      "38\n",
      "fizz\n",
      "buzz\n",
      "41\n",
      "fizz\n",
      "43\n",
      "44\n",
      "fizzbuzz\n",
      "46\n",
      "47\n",
      "fizz\n",
      "49\n",
      "buzz\n",
      "fizz\n",
      "52\n",
      "53\n",
      "fizz\n",
      "buzz\n",
      "56\n",
      "fizz\n",
      "58\n",
      "59\n",
      "fizzbuzz\n",
      "61\n",
      "62\n",
      "fizz\n",
      "64\n",
      "buzz\n",
      "fizz\n",
      "67\n",
      "68\n",
      "fizz\n",
      "buzz\n",
      "71\n",
      "fizz\n",
      "73\n",
      "74\n",
      "fizzbuzz\n",
      "76\n",
      "77\n",
      "fizz\n",
      "79\n",
      "buzz\n",
      "fizz\n",
      "82\n",
      "83\n",
      "fizz\n",
      "buzz\n",
      "86\n",
      "fizz\n",
      "88\n",
      "89\n",
      "fizzbuzz\n",
      "91\n",
      "92\n",
      "fizz\n",
      "94\n",
      "buzz\n",
      "fizz\n",
      "97\n",
      "98\n",
      "fizz\n",
      "buzz\n"
     ]
    }
   ],
   "source": [
    "# second solution looks is a variation on the run-though\n",
    "m = 1\n",
    "while m <= 100:\n",
    "    fizzbuzz(m)\n",
    "    m += 1"
   ]
  },
  {
   "cell_type": "code",
   "execution_count": 10,
   "metadata": {},
   "outputs": [
    {
     "name": "stdout",
     "output_type": "stream",
     "text": [
      "1\n",
      "2\n",
      "fizz\n",
      "4\n",
      "buzz\n",
      "fizz\n",
      "7\n",
      "8\n",
      "fizz\n",
      "buzz\n",
      "11\n",
      "fizz\n",
      "13\n",
      "14\n",
      "fizzbuzz\n",
      "16\n",
      "17\n",
      "fizz\n",
      "19\n",
      "buzz\n",
      "fizz\n",
      "22\n",
      "23\n",
      "fizz\n",
      "buzz\n",
      "26\n",
      "fizz\n",
      "28\n",
      "29\n",
      "fizzbuzz\n",
      "31\n",
      "32\n",
      "fizz\n",
      "34\n",
      "buzz\n",
      "fizz\n",
      "37\n",
      "38\n",
      "fizz\n",
      "buzz\n",
      "41\n",
      "fizz\n",
      "43\n",
      "44\n",
      "fizzbuzz\n",
      "46\n",
      "47\n",
      "fizz\n",
      "49\n",
      "buzz\n",
      "fizz\n",
      "52\n",
      "53\n",
      "fizz\n",
      "buzz\n",
      "56\n",
      "fizz\n",
      "58\n",
      "59\n",
      "fizzbuzz\n",
      "61\n",
      "62\n",
      "fizz\n",
      "64\n",
      "buzz\n",
      "fizz\n",
      "67\n",
      "68\n",
      "fizz\n",
      "buzz\n",
      "71\n",
      "fizz\n",
      "73\n",
      "74\n",
      "fizzbuzz\n",
      "76\n",
      "77\n",
      "fizz\n",
      "79\n",
      "buzz\n",
      "fizz\n",
      "82\n",
      "83\n",
      "fizz\n",
      "buzz\n",
      "86\n",
      "fizz\n",
      "88\n",
      "89\n",
      "fizzbuzz\n",
      "91\n",
      "92\n",
      "fizz\n",
      "94\n",
      "buzz\n",
      "fizz\n",
      "97\n",
      "98\n",
      "fizz\n",
      "buzz\n"
     ]
    }
   ],
   "source": [
    "# third solution looks through the items in an array of numbers 1 through 100\n",
    "\n",
    "import numpy as np\n",
    "b = np.array([list(range(1,101))])\n",
    "c = []\n",
    "#b[0,0] = 1 and b[0,99] = 100; len(b) =1; 1 column\n",
    "n = 0\n",
    "while n <= 99:\n",
    "    fizzbuzz(b[0,n])\n",
    "    n += 1"
   ]
  },
  {
   "cell_type": "code",
   "execution_count": 21,
   "metadata": {},
   "outputs": [
    {
     "data": {
      "text/plain": [
       "dict_items([('fizz', [3, 6, 9, 12, 18, 21, 24, 27, 33, 36, 39, 42, 48, 51, 54, 57, 63, 66, 69, 72, 78, 81, 84, 87, 93, 96, 99]), ('buzz', [5, 10, 20, 25, 35, 40, 50, 55, 65, 70, 80, 85, 95, 100]), ('fizzbuzz', [0, 15, 30, 45, 60, 75, 90]), ('not divisible', [1, 2, 4, 7, 8, 11, 13, 14, 16, 17, 19, 22, 23, 26, 28, 29, 31, 32, 34, 37, 38, 41, 43, 44, 46, 47, 49, 52, 53, 56, 58, 59, 61, 62, 64, 67, 68, 71, 73, 74, 76, 77, 79, 82, 83, 86, 88, 89, 91, 92, 94, 97, 98])])"
      ]
     },
     "execution_count": 21,
     "metadata": {},
     "output_type": "execute_result"
    }
   ],
   "source": [
    "# fourth solution creates a dictionary that sorts numbers into the right key\n",
    "\n",
    "from collections import defaultdict\n",
    "fizzbuzz_dict = {\n",
    "    'fizz': [],\n",
    "    'buzz': [],\n",
    "    'fizzbuzz': [],\n",
    "'not divisible': []}\n",
    "\n",
    "for i in list(range(0,101)):\n",
    "    if i%15 == 0:\n",
    "        fizzbuzz_dict['fizzbuzz'].append(i)\n",
    "    elif i%3 == 0:\n",
    "        fizzbuzz_dict['fizz'].append(i)\n",
    "    elif i%5 == 0:\n",
    "        fizzbuzz_dict['buzz'].append(i)\n",
    "    else:\n",
    "        fizzbuzz_dict['not divisible'].append(i)\n",
    "    \n",
    "fizzbuzz_dict.items()"
   ]
  },
  {
   "cell_type": "code",
   "execution_count": null,
   "metadata": {
    "collapsed": true
   },
   "outputs": [],
   "source": []
  }
 ],
 "metadata": {
  "anaconda-cloud": {},
  "kernelspec": {
   "display_name": "Python 3",
   "language": "python",
   "name": "python3"
  },
  "language_info": {
   "codemirror_mode": {
    "name": "ipython",
    "version": 3
   },
   "file_extension": ".py",
   "mimetype": "text/x-python",
   "name": "python",
   "nbconvert_exporter": "python",
   "pygments_lexer": "ipython3",
   "version": "3.6.3"
  }
 },
 "nbformat": 4,
 "nbformat_minor": 2
}
